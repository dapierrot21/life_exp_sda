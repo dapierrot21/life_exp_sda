{
 "cells": [
  {
   "cell_type": "markdown",
   "id": "6f6b386e",
   "metadata": {},
   "source": [
    "**Content**\n",
    "The Global Health Observatory (GHO) data repository under World Health Organization (WHO) keeps track of the health status as well as many other related factors for all countries <br>\n",
    "\n",
    "The data-set related to life expectancy, health factors for 193 countries has been collected from the same WHO data repository website and its corresponding economic data was collected from United Nation website. <br>\n",
    "\n",
    "In this project we have considered data from year 2000-2015 for 193 countries for further analysis. The final dataset consists of 22 Columns and 2938 rows which meant 20 predicting variables."
   ]
  },
  {
   "cell_type": "markdown",
   "id": "e4917957",
   "metadata": {},
   "source": [
    "**Variable Descriptions** <br>\n",
    "1. **country** (Nominal) - the country in which the indicators are from (i.e. United States of America or Congo) <br>\n",
    "2. **year**(Ordinal) - the calendar year the indicators are from (ranging from 2000 to 2015) <br>\n",
    "3. **status** (Nominal) - whether a country is considered to be 'Developing' or 'Developed' by WHO standards\n",
    "4. **life_expectancy** (Ratio) - the life expectancy of people in years for a particular country and year\n",
    "5. **adult_mortality** (Ratio) - the adult mortality rate per 1000 population (i.e. number of people dying between 15 and 60 years per 1000 population); if the rate is 263 then that means 263 people will die out of 1000 between the ages of 15 and 60; another way to think of this is that the chance an individual will die between 15 and 60 is 26.3%\n",
    "\n",
    "6. **infant_deaths** (Ratio) - number of infant deaths per 1000 population; similar to above, but for infants\n",
    "\n",
    "7. **alcohol**(Ratio) - a country's alcohol consumption rate measured as liters of pure alcohol consumption per capita\n",
    "\n",
    "8. **percentage_expenditure** (Ratio) - expenditure on health as a percentage of Gross Domestic Product (gdp)\n",
    "9. **hepatitis_b** (Ratio) - number of 1 year olds with Hepatitis B immunization over all 1 year olds in population\n",
    "10. **measles** (Ratio) - number of reported Measles cases per 1000 population\n",
    "11. **bmi** (Interval/Ordinal) - average Body Mass Index (BMI) of a country's total population\n",
    "12. **under-five_deaths** (Ratio) - number of people under the age of five deaths per 1000 population\n",
    "13. **polio** (Ratio) - number of 1 year olds with Polio immunization over the number of all 1 year olds in population\n",
    "14. **total_expenditure** (Ratio) - government expenditure on health as a percentage of total government expenditure\n",
    "15. **diphtheria** (Ratio) - Diphtheria tetanus toxoid and pertussis (DTP3) immunization rate of 1 year olds\n",
    "16. **hiv/aids** (Ratio) - deaths per 1000 live births caused by HIV/AIDS for people under 5; number of people under 5 who die due to HIV/AIDS per 1000 births\n",
    "17. **gdp** (Ratio) - Gross Domestic Product per capita\n",
    "18. **population** (Ratio) - population of a country\n",
    "19. **thinness_1-19_years** (Ratio) - rate of thinness among people aged 10-19 (Note: variable should be renamed to thinness_10-19_years to more accurately represent the variable)\n",
    "20. **thinness_5-9_years** (Ratio) - rate of thinness among people aged 5-9\n",
    "21. **income_composition_of_resources** (Ratio) - Human Development Index in terms of income composition of resources (index ranging from 0 to 1)\n",
    "22. **schooling** (Ratio) - average number of years of schooling of a population"
   ]
  },
  {
   "cell_type": "markdown",
   "id": "ae2e0f34",
   "metadata": {},
   "source": [
    "I'm acting as a DA consultants for WHO. In particular WHO is interested what is the difference in general health indicators between developed and developing countries, especially in terms of economic development/expenditure and immunization.  Also WHO's previous approach included BMI and body weight related measures, but now they're sure that averages of these indicators are the same for both categories, thus, these parameters should not be included in their methodology anymore."
   ]
  },
  {
   "cell_type": "markdown",
   "id": "77259a01",
   "metadata": {},
   "source": [
    "In this notebook I will:\n",
    "1. See how average life expectancy is different for developed/developing countries.\n",
    "2. Identify countries that are in \"risk\" zone for mortality.\n",
    "3. Try to find a paradox in GDP vs expenditure on health within developed/developing.\n",
    "4. Create a \"profile analysis\" for immunization in developed/developing countries.\n",
    "5. Check whether BMI and body weight related measure should be included in the methodology of WHO "
   ]
  },
  {
   "cell_type": "code",
   "execution_count": 2,
   "id": "73441ea6",
   "metadata": {},
   "outputs": [],
   "source": [
    "import pandas as pd\n",
    "import numpy as np\n",
    "import matplotlib.pyplot as plt\n",
    "import seaborn as sns\n",
    "from scipy import stats"
   ]
  },
  {
   "cell_type": "code",
   "execution_count": 3,
   "id": "765a9a7a",
   "metadata": {},
   "outputs": [
    {
     "data": {
      "text/html": [
       "<div>\n",
       "<style scoped>\n",
       "    .dataframe tbody tr th:only-of-type {\n",
       "        vertical-align: middle;\n",
       "    }\n",
       "\n",
       "    .dataframe tbody tr th {\n",
       "        vertical-align: top;\n",
       "    }\n",
       "\n",
       "    .dataframe thead th {\n",
       "        text-align: right;\n",
       "    }\n",
       "</style>\n",
       "<table border=\"1\" class=\"dataframe\">\n",
       "  <thead>\n",
       "    <tr style=\"text-align: right;\">\n",
       "      <th></th>\n",
       "      <th>Country</th>\n",
       "      <th>Year</th>\n",
       "      <th>Status</th>\n",
       "      <th>Life expectancy</th>\n",
       "      <th>Adult Mortality</th>\n",
       "      <th>infant deaths</th>\n",
       "      <th>Alcohol</th>\n",
       "      <th>percentage expenditure</th>\n",
       "      <th>Hepatitis B</th>\n",
       "      <th>Measles</th>\n",
       "      <th>...</th>\n",
       "      <th>Polio</th>\n",
       "      <th>Total expenditure</th>\n",
       "      <th>Diphtheria</th>\n",
       "      <th>HIV/AIDS</th>\n",
       "      <th>GDP</th>\n",
       "      <th>Population</th>\n",
       "      <th>thinness  1-19 years</th>\n",
       "      <th>thinness 5-9 years</th>\n",
       "      <th>Income composition of resources</th>\n",
       "      <th>Schooling</th>\n",
       "    </tr>\n",
       "  </thead>\n",
       "  <tbody>\n",
       "    <tr>\n",
       "      <th>0</th>\n",
       "      <td>Afghanistan</td>\n",
       "      <td>2015</td>\n",
       "      <td>Developing</td>\n",
       "      <td>65.0</td>\n",
       "      <td>263.0</td>\n",
       "      <td>62</td>\n",
       "      <td>0.01</td>\n",
       "      <td>71.279624</td>\n",
       "      <td>65.0</td>\n",
       "      <td>1154</td>\n",
       "      <td>...</td>\n",
       "      <td>6.0</td>\n",
       "      <td>8.16</td>\n",
       "      <td>65.0</td>\n",
       "      <td>0.1</td>\n",
       "      <td>584.259210</td>\n",
       "      <td>33736494.0</td>\n",
       "      <td>17.2</td>\n",
       "      <td>17.3</td>\n",
       "      <td>0.479</td>\n",
       "      <td>10.1</td>\n",
       "    </tr>\n",
       "    <tr>\n",
       "      <th>1</th>\n",
       "      <td>Afghanistan</td>\n",
       "      <td>2014</td>\n",
       "      <td>Developing</td>\n",
       "      <td>59.9</td>\n",
       "      <td>271.0</td>\n",
       "      <td>64</td>\n",
       "      <td>0.01</td>\n",
       "      <td>73.523582</td>\n",
       "      <td>62.0</td>\n",
       "      <td>492</td>\n",
       "      <td>...</td>\n",
       "      <td>58.0</td>\n",
       "      <td>8.18</td>\n",
       "      <td>62.0</td>\n",
       "      <td>0.1</td>\n",
       "      <td>612.696514</td>\n",
       "      <td>327582.0</td>\n",
       "      <td>17.5</td>\n",
       "      <td>17.5</td>\n",
       "      <td>0.476</td>\n",
       "      <td>10.0</td>\n",
       "    </tr>\n",
       "    <tr>\n",
       "      <th>2</th>\n",
       "      <td>Afghanistan</td>\n",
       "      <td>2013</td>\n",
       "      <td>Developing</td>\n",
       "      <td>59.9</td>\n",
       "      <td>268.0</td>\n",
       "      <td>66</td>\n",
       "      <td>0.01</td>\n",
       "      <td>73.219243</td>\n",
       "      <td>64.0</td>\n",
       "      <td>430</td>\n",
       "      <td>...</td>\n",
       "      <td>62.0</td>\n",
       "      <td>8.13</td>\n",
       "      <td>64.0</td>\n",
       "      <td>0.1</td>\n",
       "      <td>631.744976</td>\n",
       "      <td>31731688.0</td>\n",
       "      <td>17.7</td>\n",
       "      <td>17.7</td>\n",
       "      <td>0.470</td>\n",
       "      <td>9.9</td>\n",
       "    </tr>\n",
       "    <tr>\n",
       "      <th>3</th>\n",
       "      <td>Afghanistan</td>\n",
       "      <td>2012</td>\n",
       "      <td>Developing</td>\n",
       "      <td>59.5</td>\n",
       "      <td>272.0</td>\n",
       "      <td>69</td>\n",
       "      <td>0.01</td>\n",
       "      <td>78.184215</td>\n",
       "      <td>67.0</td>\n",
       "      <td>2787</td>\n",
       "      <td>...</td>\n",
       "      <td>67.0</td>\n",
       "      <td>8.52</td>\n",
       "      <td>67.0</td>\n",
       "      <td>0.1</td>\n",
       "      <td>669.959000</td>\n",
       "      <td>3696958.0</td>\n",
       "      <td>17.9</td>\n",
       "      <td>18.0</td>\n",
       "      <td>0.463</td>\n",
       "      <td>9.8</td>\n",
       "    </tr>\n",
       "    <tr>\n",
       "      <th>4</th>\n",
       "      <td>Afghanistan</td>\n",
       "      <td>2011</td>\n",
       "      <td>Developing</td>\n",
       "      <td>59.2</td>\n",
       "      <td>275.0</td>\n",
       "      <td>71</td>\n",
       "      <td>0.01</td>\n",
       "      <td>7.097109</td>\n",
       "      <td>68.0</td>\n",
       "      <td>3013</td>\n",
       "      <td>...</td>\n",
       "      <td>68.0</td>\n",
       "      <td>7.87</td>\n",
       "      <td>68.0</td>\n",
       "      <td>0.1</td>\n",
       "      <td>63.537231</td>\n",
       "      <td>2978599.0</td>\n",
       "      <td>18.2</td>\n",
       "      <td>18.2</td>\n",
       "      <td>0.454</td>\n",
       "      <td>9.5</td>\n",
       "    </tr>\n",
       "  </tbody>\n",
       "</table>\n",
       "<p>5 rows × 22 columns</p>\n",
       "</div>"
      ],
      "text/plain": [
       "       Country  Year      Status  Life expectancy   Adult Mortality  \\\n",
       "0  Afghanistan  2015  Developing              65.0            263.0   \n",
       "1  Afghanistan  2014  Developing              59.9            271.0   \n",
       "2  Afghanistan  2013  Developing              59.9            268.0   \n",
       "3  Afghanistan  2012  Developing              59.5            272.0   \n",
       "4  Afghanistan  2011  Developing              59.2            275.0   \n",
       "\n",
       "   infant deaths  Alcohol  percentage expenditure  Hepatitis B  Measles   ...  \\\n",
       "0             62     0.01               71.279624         65.0      1154  ...   \n",
       "1             64     0.01               73.523582         62.0       492  ...   \n",
       "2             66     0.01               73.219243         64.0       430  ...   \n",
       "3             69     0.01               78.184215         67.0      2787  ...   \n",
       "4             71     0.01                7.097109         68.0      3013  ...   \n",
       "\n",
       "   Polio  Total expenditure  Diphtheria    HIV/AIDS         GDP  Population  \\\n",
       "0    6.0               8.16         65.0        0.1  584.259210  33736494.0   \n",
       "1   58.0               8.18         62.0        0.1  612.696514    327582.0   \n",
       "2   62.0               8.13         64.0        0.1  631.744976  31731688.0   \n",
       "3   67.0               8.52         67.0        0.1  669.959000   3696958.0   \n",
       "4   68.0               7.87         68.0        0.1   63.537231   2978599.0   \n",
       "\n",
       "    thinness  1-19 years   thinness 5-9 years  \\\n",
       "0                   17.2                 17.3   \n",
       "1                   17.5                 17.5   \n",
       "2                   17.7                 17.7   \n",
       "3                   17.9                 18.0   \n",
       "4                   18.2                 18.2   \n",
       "\n",
       "   Income composition of resources  Schooling  \n",
       "0                            0.479       10.1  \n",
       "1                            0.476       10.0  \n",
       "2                            0.470        9.9  \n",
       "3                            0.463        9.8  \n",
       "4                            0.454        9.5  \n",
       "\n",
       "[5 rows x 22 columns]"
      ]
     },
     "execution_count": 3,
     "metadata": {},
     "output_type": "execute_result"
    }
   ],
   "source": [
    "data = pd.read_csv('./Life_Expectancy_Data.csv')\n",
    "data.head()"
   ]
  },
  {
   "cell_type": "code",
   "execution_count": 4,
   "id": "84189e07",
   "metadata": {},
   "outputs": [
    {
     "data": {
      "text/plain": [
       "Index(['country', 'year', 'status', 'life_expectancy_', 'adult_mortality',\n",
       "       'infant_deaths', 'alcohol', 'percentage_expenditure', 'hepatitis_b',\n",
       "       'measles_', '_bmi_', 'under-five_deaths_', 'polio', 'total_expenditure',\n",
       "       'diphtheria_', '_hiv/aids', 'gdp', 'population',\n",
       "       '_thinness__1-19_years', '_thinness_5-9_years',\n",
       "       'income_composition_of_resources', 'schooling'],\n",
       "      dtype='object')"
      ]
     },
     "execution_count": 4,
     "metadata": {},
     "output_type": "execute_result"
    }
   ],
   "source": [
    "# Renaming Columns\n",
    "data.columns = data.columns.str.lower()\n",
    "data.columns = data.columns.str.replace(' ', '_')\n",
    "data.columns"
   ]
  },
  {
   "cell_type": "code",
   "execution_count": 5,
   "id": "f938e960",
   "metadata": {},
   "outputs": [
    {
     "data": {
      "text/plain": [
       "status\n",
       "Developed      32\n",
       "Developing    161\n",
       "Name: country, dtype: int64"
      ]
     },
     "execution_count": 5,
     "metadata": {},
     "output_type": "execute_result"
    }
   ],
   "source": [
    "# How many countries do we have in the dataset?\n",
    "data.groupby(['status'])['country'].nunique()"
   ]
  },
  {
   "cell_type": "markdown",
   "id": "9611f635",
   "metadata": {},
   "source": [
    "## Analysis of Immunization"
   ]
  },
  {
   "cell_type": "markdown",
   "id": "e0fb282e",
   "metadata": {},
   "source": [
    "**For each country find an average immunization rate for all years. Calculate the mean, dispersion, standard deviation. Plot histograms, describe how distribution varies among two groups of countries.**"
   ]
  },
  {
   "cell_type": "code",
   "execution_count": 8,
   "id": "94cf44a8",
   "metadata": {},
   "outputs": [],
   "source": [
    "immunization = data.groupby(['country', 'status'])[['hepatitis_b', 'diphtheria_', 'polio']].mean().reset_index()"
   ]
  },
  {
   "cell_type": "code",
   "execution_count": 12,
   "id": "66d357f6",
   "metadata": {},
   "outputs": [],
   "source": [
    "def immunization_stat(vaccine):\n",
    "    plt.figure(figsize=(8,7))\n",
    "    sns.histplot(immunization, x=vaccine,  hue='status')\n",
    "    plt.show()\n",
    "    \n",
    "    mean = round(immunization[vaccine].mean())\n",
    "    std = round(immunization[vaccine].std())\n",
    "    var = round(immunization[vaccine].var())\n",
    "    \n",
    "    print(\"The overall average for\", vaccine, \"is:\", mean)\n",
    "    print(\"The variance for\", vaccine, \"is:\", var)\n",
    "    print(\"The standard deviation for\", vaccine, \"is:\", std)\n",
    "    print(\"The averages per status:\")\n",
    "    print(immunization.groupby(['status'])[vaccine].mean())"
   ]
  },
  {
   "cell_type": "code",
   "execution_count": 13,
   "id": "821ba4b4",
   "metadata": {},
   "outputs": [
    {
     "data": {
      "image/png": "[encoded data removed]",
      "text/plain": [
       "<Figure size 800x700 with 1 Axes>"
      ]
     },
     "metadata": {},
     "output_type": "display_data"
    },
    {
     "name": "stdout",
     "output_type": "stream",
     "text": [
      "The overall average for hepatitis_b is: 79\n",
      "The variance for hepatitis_b is: 354\n",
      "The standard deviation for hepatitis_b is: 19\n",
      "The averages per status:\n",
      "status\n",
      "Developed     86.194989\n",
      "Developing    77.366776\n",
      "Name: hepatitis_b, dtype: float64\n"
     ]
    }
   ],
   "source": [
    "immunization_stat('hepatitis_b')"
   ]
  },
  {
   "cell_type": "code",
   "execution_count": 14,
   "id": "9eac78fb",
   "metadata": {},
   "outputs": [
    {
     "data": {
      "image/png": "[encoded data removed]",
      "text/plain": [
       "<Figure size 800x700 with 1 Axes>"
      ]
     },
     "metadata": {},
     "output_type": "display_data"
    },
    {
     "name": "stdout",
     "output_type": "stream",
     "text": [
      "The overall average for diphtheria_ is: 82\n",
      "The variance for diphtheria_ is: 295\n",
      "The standard deviation for diphtheria_ is: 17\n",
      "The averages per status:\n",
      "status\n",
      "Developed     93.476562\n",
      "Developing    79.992791\n",
      "Name: diphtheria_, dtype: float64\n"
     ]
    }
   ],
   "source": [
    "immunization_stat('diphtheria_')"
   ]
  },
  {
   "cell_type": "code",
   "execution_count": 25,
   "id": "3e2906a1",
   "metadata": {},
   "outputs": [
    {
     "data": {
      "image/png": "[encoded data removed]",
      "text/plain": [
       "<Figure size 800x700 with 1 Axes>"
      ]
     },
     "metadata": {},
     "output_type": "display_data"
    },
    {
     "name": "stdout",
     "output_type": "stream",
     "text": [
      "The overall average for polio is: 82\n",
      "The variance for polio is: 279\n",
      "The standard deviation for polio is: 17\n",
      "The averages per status:\n",
      "status\n",
      "Developed     93.736328\n",
      "Developing    80.183319\n",
      "Name: polio, dtype: float64\n"
     ]
    }
   ],
   "source": [
    "immunization_stat('polio')"
   ]
  },
  {
   "cell_type": "code",
   "execution_count": 37,
   "id": "f62bc699",
   "metadata": {},
   "outputs": [
    {
     "name": "stdout",
     "output_type": "stream",
     "text": [
      "The vaccine with the highest average immunization rate is 'polio' with a mean rate of 82.55\n"
     ]
    }
   ],
   "source": [
    "# Which vaccine out of all 3 has the highest average immunization rate across all countries?\n",
    "\n",
    "# Calculate the mean immunization rates for each vaccine across all countries\n",
    "mean_immunization_rates = data[['hepatitis_b', 'diphtheria_', 'polio']].mean()\n",
    "\n",
    "# Find the vaccine with the highest mean immunization rate\n",
    "vaccine_with_highest_mean = mean_immunization_rates.idxmax()\n",
    "highest_mean = mean_immunization_rates.max()\n",
    "\n",
    "print(f\"The vaccine with the highest average immunization rate is '{vaccine_with_highest_mean}' with a mean rate of {highest_mean:.2f}\")\n"
   ]
  },
  {
   "cell_type": "code",
   "execution_count": 40,
   "id": "e6273918",
   "metadata": {},
   "outputs": [
    {
     "name": "stdout",
     "output_type": "stream",
     "text": [
      "The vaccine with the lowest average immunization rate is 'hepatitis_b' with a mean rate of 79.76\n"
     ]
    }
   ],
   "source": [
    "# Which vaccine has the lowest rate in developing countries?\n",
    "\n",
    "# Isolate developing countries\n",
    "developing_countries = data.query('status == \"Developing\"')\n",
    "\n",
    "# Calculate the mean immunization rates for each vaccine across all developing countries\n",
    "mean_immunization_rates = developing_countries[['hepatitis_b', 'diphtheria_', 'polio']].mean()\n",
    "\n",
    "# Find the vaccine with the lowest mean immunization rate\n",
    "vaccine_with_lowest_mean = mean_immunization_rates.idxmin()\n",
    "lowest_mean = mean_immunization_rates.min()\n",
    "\n",
    "print(f\"The vaccine with the lowest average immunization rate is '{vaccine_with_lowest_mean}' with a mean rate of {lowest_mean:.2f}\")\n",
    "\n"
   ]
  },
  {
   "cell_type": "code",
   "execution_count": null,
   "id": "c86e00b4",
   "metadata": {},
   "outputs": [],
   "source": []
  }
 ],
 "metadata": {
  "kernelspec": {
   "display_name": "Python 3 (ipykernel)",
   "language": "python",
   "name": "python3"
  },
  "language_info": {
   "codemirror_mode": {
    "name": "ipython",
    "version": 3
   },
   "file_extension": ".py",
   "mimetype": "text/x-python",
   "name": "python",
   "nbconvert_exporter": "python",
   "pygments_lexer": "ipython3",
   "version": "3.8.8"
  }
 },
 "nbformat": 4,
 "nbformat_minor": 5
}
